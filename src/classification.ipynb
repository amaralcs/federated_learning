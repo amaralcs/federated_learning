{
 "cells": [
  {
   "cell_type": "code",
   "execution_count": 68,
   "metadata": {},
   "outputs": [
    {
     "name": "stdout",
     "output_type": "stream",
     "text": [
      "(569, 30) (569,)\n",
      "Target classes: ['malignant' 'benign']\n"
     ]
    }
   ],
   "source": [
    "from sklearn.datasets import load_breast_cancer\n",
    "import numpy as np\n",
    "from typing import Tuple, Union, List\n",
    "import matplotlib.pyplot as plt\n",
    "\n",
    "random_state = 88844\n",
    "rng = np.random.default_rng(seed=random_state)\n",
    "\n",
    "data = load_breast_cancer()\n",
    "X, y = data[\"data\"], data[\"target\"]\n",
    "feature_names = data[\"feature_names\"]\n",
    "target_names = data[\"target_names\"]\n",
    "\n",
    "print(X.shape, y.shape)\n",
    "print(\"Target classes:\", target_names)\n"
   ]
  },
  {
   "attachments": {},
   "cell_type": "markdown",
   "metadata": {},
   "source": [
    "# Baseline model"
   ]
  },
  {
   "cell_type": "code",
   "execution_count": 54,
   "metadata": {},
   "outputs": [
    {
     "name": "stdout",
     "output_type": "stream",
     "text": [
      "X_train size: (455, 30)\n",
      "X_test size: (114, 30)\n",
      "              precision    recall  f1-score   support\n",
      "\n",
      "           0       0.98      0.96      0.97        45\n",
      "           1       0.97      0.99      0.98        69\n",
      "\n",
      "    accuracy                           0.97       114\n",
      "   macro avg       0.97      0.97      0.97       114\n",
      "weighted avg       0.97      0.97      0.97       114\n",
      "\n"
     ]
    }
   ],
   "source": [
    "from sklearn.linear_model import LogisticRegression\n",
    "from sklearn.preprocessing import StandardScaler\n",
    "from sklearn.model_selection import train_test_split\n",
    "from sklearn.pipeline import make_pipeline\n",
    "from sklearn.metrics import classification_report, log_loss\n",
    "\n",
    "X_train, X_test, y_train, y_test = train_test_split(\n",
    "    X, y, test_size=0.2, random_state=random_state\n",
    ")\n",
    "print(f\"X_train size: {X_train.shape}\")\n",
    "print(f\"X_test size: {X_test.shape}\")\n",
    "\n",
    "pipe = make_pipeline(\n",
    "    StandardScaler(),\n",
    "    LogisticRegression()\n",
    ")\n",
    "\n",
    "pipe.fit(X_train, y_train)\n",
    "\n",
    "y_test_preds = pipe.predict(X_test)\n",
    "# print(\"loss: \", log_loss(y_test, pipe[1].predict_proba(X_test)))\n",
    "\n",
    "print(classification_report(y_test, y_test_preds))\n"
   ]
  },
  {
   "attachments": {},
   "cell_type": "markdown",
   "metadata": {},
   "source": [
    "# Implementing the same model using `flower`"
   ]
  },
  {
   "attachments": {},
   "cell_type": "markdown",
   "metadata": {},
   "source": [
    "## Ingredients:\n",
    "1. Split the data into $n$ datasets, each representing a different location where the data lives\n",
    "2. Define functions for:\n",
    "    - Getting model parameters\n",
    "    - Setting model parameters\n",
    "3. Define `FlowerClient` \n",
    "    - Should contain the following:\n",
    "        - `get_parameters`\n",
    "        - `fit`\n",
    "        - `evaluate`\n",
    "4. Set Federated learning strategy\n",
    "6. Simulate!"
   ]
  },
  {
   "attachments": {},
   "cell_type": "markdown",
   "metadata": {},
   "source": [
    "## 1. Data setup\n",
    "Since we have ~450 training instances, let's say we have $n=5$ different hospitals where the breast cancer data lives"
   ]
  },
  {
   "cell_type": "code",
   "execution_count": 3,
   "metadata": {},
   "outputs": [
    {
     "data": {
      "text/plain": [
       "((91, 30), (91,))"
      ]
     },
     "execution_count": 3,
     "metadata": {},
     "output_type": "execute_result"
    }
   ],
   "source": [
    "def split_dataset(\n",
    "    X: np.array, y: np.array, n_clients: int = 5\n",
    ") -> List[Tuple[np.array, np.array]]:\n",
    "    n_clients = 5\n",
    "    partition_sizes = len(X) // n_clients\n",
    "\n",
    "    partition_indices = rng.choice(\n",
    "        len(X), size=(n_clients, partition_sizes), replace=False\n",
    "    )\n",
    "    sets = [(X[pidx], y[pidx]) for pidx in partition_indices]\n",
    "    return sets\n",
    "\n",
    "\n",
    "train_sets = split_dataset(X_train, y_train)\n",
    "train_sets[0][0].shape, train_sets[0][1].shape  # Number of samples for our first client\n",
    "\n"
   ]
  },
  {
   "attachments": {},
   "cell_type": "markdown",
   "metadata": {},
   "source": [
    "We'll have a single test set shared across all clients"
   ]
  },
  {
   "cell_type": "code",
   "execution_count": 4,
   "metadata": {},
   "outputs": [],
   "source": [
    "test_set = (X_test, y_test)"
   ]
  },
  {
   "attachments": {},
   "cell_type": "markdown",
   "metadata": {},
   "source": [
    "## 2. Fetching/reloading model parameters\n",
    "Taken from the `flower` [sklearn example](https://github.com/adap/flower/blob/main/examples/sklearn-logreg-mnist/utils.py)"
   ]
  },
  {
   "attachments": {},
   "cell_type": "markdown",
   "metadata": {},
   "source": [
    "**Notes:**\n",
    "- `get_model_params` needs to return a list of parameters\n",
    "    - It doesn't seem to allow for List of Lists of different sizes (i.e. ragged arrays)\n",
    "    - such lists throw an error when fitting\n",
    "- `set_initial_params` initializes the StdScaler and LogReg parameters to zero\n",
    "    - An alternative approach would be to fit the model on a dummy dataset that has the same shape as the training data\n"
   ]
  },
  {
   "cell_type": "code",
   "execution_count": 93,
   "metadata": {},
   "outputs": [],
   "source": [
    "from sklearn.pipeline import Pipeline\n",
    "\n",
    "def get_model_parameters(pipe: Pipeline) -> dict:\n",
    "    params = [\n",
    "        pipe[0].scale_, pipe[0].mean_, pipe[0].var_,\n",
    "        pipe[1].coef_\n",
    "    ]\n",
    "       \n",
    "    if pipe[1].fit_intercept:\n",
    "        params.append(pipe[1].intercept_)\n",
    "\n",
    "    return params\n",
    "\n",
    "\n",
    "def set_model_params(pipe: Pipeline, params) -> Pipeline:\n",
    "    \"\"\"Since we're working wiht a pipeline object, we need to set\n",
    "    the parameters for all underlying models. In this case a scaler and LogisticRegression.\n",
    "    \"\"\"\n",
    "    # unpack scaler parameters\n",
    "    pipe[0].scale_, pipe[0].mean_, pipe[0].var_ = params[:3]\n",
    "\n",
    "    if pipe[1].fit_intercept:\n",
    "        pipe[1].coef_, pipe[1].intercept_ = params[3:]\n",
    "    else:\n",
    "        pipe[1].coef_ = params[-1]\n",
    "    return pipe\n",
    "\n",
    "\n",
    "def set_initial_params(pipe: Pipeline, n_feats, n_classes=1) -> Pipeline:\n",
    "    # pipe[0].scale_ = np.zeros(shape=(n_feats))\n",
    "    # pipe[0].mean_ = np.zeros(shape=(n_feats))\n",
    "    # pipe[0].var_ = np.zeros(shape=(n_feats))\n",
    "    # pipe[0].n_samples_seen_ = np.zeros(shape=(n_feats))\n",
    "    \n",
    "    pipe[0].scale_ = rng.random(size=(n_feats))\n",
    "    pipe[0].mean_ = rng.random(size=(n_feats))\n",
    "    pipe[0].var_ = rng.random(size=(n_feats))\n",
    "    pipe[0].n_samples_seen_ = rng.random(size=(n_feats))\n",
    "\n",
    "\n",
    "    pipe[1].classes_ = np.arange(n_classes)\n",
    "    pipe[1].coef_ = rng.random(size=(n_classes, n_feats))\n",
    "    if pipe[1].fit_intercept:\n",
    "        pipe[1].intercept_ = rng.random(size=(n_classes))\n",
    "    # return pipe"
   ]
  },
  {
   "attachments": {},
   "cell_type": "markdown",
   "metadata": {},
   "source": [
    "## 3. Define FlowerClient"
   ]
  },
  {
   "cell_type": "code",
   "execution_count": 86,
   "metadata": {},
   "outputs": [],
   "source": [
    "import warnings\n",
    "import flwr as fl\n",
    "\n",
    "class BreastCancerClient(fl.client.NumPyClient):\n",
    "    def __init__(self, pipe, train_set, test_set):\n",
    "        self.pipe = pipe\n",
    "        self.clf = self.pipe.steps[-1][1]\n",
    "        self.X_train, self.y_train = train_set\n",
    "        self.X_test, self.y_test = test_set\n",
    "\n",
    "    def get_parameters(self, config):\n",
    "        return get_model_parameters(self.pipe)\n",
    "\n",
    "    def fit(self, parameters, config):\n",
    "        set_model_params(self.pipe, parameters)\n",
    "        with warnings.catch_warnings():\n",
    "            warnings.simplefilter(\"ignore\")\n",
    "            self.pipe.fit(self.X_train, self.y_train)\n",
    "\n",
    "        # print(f\"Training finished for round {config['server_round']}\")\n",
    "        return self.get_parameters(self.pipe), len(self.X_train), {}\n",
    "\n",
    "    def evaluate(self, parameters, config):  # type: ignore\n",
    "        set_model_params(self.pipe, parameters)\n",
    "        loss = log_loss(self.y_test, self.clf.predict_proba(self.X_test))\n",
    "        accuracy = self.clf.score(self.X_test, self.y_test)\n",
    "        return loss, len(self.X_test), {\"accuracy\": accuracy}\n",
    "\n",
    "def launch_client(client_id, train_sets=train_sets, test_set=test_set):\n",
    "    model = make_pipeline(StandardScaler(), LogisticRegression(max_iter=1, warm_start=True))\n",
    "    train_set = train_sets[int(client_id)]\n",
    "    set_initial_params(model, n_feats=(train_set[0][0].shape[-1]), n_classes=1)\n",
    "    return BreastCancerClient(model, train_set, test_set)"
   ]
  },
  {
   "attachments": {},
   "cell_type": "markdown",
   "metadata": {},
   "source": [
    "## 5. Set Federated learning strategy\n"
   ]
  },
  {
   "attachments": {},
   "cell_type": "markdown",
   "metadata": {},
   "source": [
    "To keep track of the client side accuracy, we implement a `mean_accuracy` function.\n",
    "\n",
    "The `metrics` input to this function is a list of the form: `[(n_examples, dict(metric_name, value))]`, where `n_examples` is the number of examples seen by the client in a training round."
   ]
  },
  {
   "cell_type": "code",
   "execution_count": 91,
   "metadata": {},
   "outputs": [],
   "source": [
    "from flwr.common import Metrics\n",
    "\n",
    "# Implement function to print mean accuracy across clients\n",
    "def mean_accuracy(metrics: List[Tuple[int, Metrics]]) -> Metrics:\n",
    "    accuracies = [m[\"accuracy\"] for n_examples, m in metrics]\n",
    "    return {\"accuracy\": np.mean(accuracies)}\n",
    "\n",
    "def weighted_accuracy(metrics: List[Tuple[int, Metrics]]) -> Metrics:\n",
    "    accuracies = [num_examples * m[\"accuracy\"] for num_examples, m in metrics]\n",
    "    examples = [num_examples for num_examples, _ in metrics]\n",
    "\n",
    "    return {\"accuracy\": sum(accuracies) / sum(examples)}\n",
    "\n",
    "\n",
    "def evaluate(server_round, parameters, config):\n",
    "    model = pipe\n",
    "    set_model_params(model, parameters)\n",
    "    loss = log_loss(y_test, model[1].predict_proba(X_test))\n",
    "    accuracy = model.score(X_test, y_test)\n",
    "    return loss, {\"accuracy\": accuracy}\n",
    "\n",
    "strategy = fl.server.strategy.FedAvg(\n",
    "    fraction_fit=1.0,  # Sample 100% of available clients for training\n",
    "    fraction_evaluate=1,  # Sample 50% of available clients for evaluation\n",
    "    min_fit_clients=5,\n",
    "    min_evaluate_clients=1,  # Never sample less than 5 clients for evaluation\n",
    "    min_available_clients=5,  # Wait until all 10 clients are available\n",
    "    # evaluate_metrics_aggregation_fn=mean_accuracy\n",
    "    evaluate_metrics_aggregation_fn=weighted_accuracy,\n",
    "    evaluate_fn=evaluate\n",
    ")"
   ]
  },
  {
   "cell_type": "markdown",
   "metadata": {},
   "source": [
    "## 6. Simulate!"
   ]
  },
  {
   "cell_type": "code",
   "execution_count": 103,
   "metadata": {},
   "outputs": [
    {
     "name": "stderr",
     "output_type": "stream",
     "text": [
      "INFO flwr 2023-04-30 16:26:23,712 | app.py:146 | Starting Flower simulation, config: ServerConfig(num_rounds=10, round_timeout=None)\n",
      "2023-04-30 16:26:28,481\tINFO worker.py:1625 -- Started a local Ray instance.\n",
      "INFO flwr 2023-04-30 16:26:31,305 | app.py:180 | Flower VCE: Ray initialized with resources: {'CPU': 24.0, 'node:127.0.0.1': 1.0, 'memory': 11806074471.0, 'GPU': 1.0, 'object_store_memory': 5903037235.0}\n",
      "INFO flwr 2023-04-30 16:26:31,305 | server.py:86 | Initializing global parameters\n",
      "INFO flwr 2023-04-30 16:26:31,306 | server.py:273 | Requesting initial parameters from one random client\n",
      "INFO flwr 2023-04-30 16:26:31,973 | server.py:277 | Received initial parameters from one random client\n",
      "INFO flwr 2023-04-30 16:26:31,974 | server.py:88 | Evaluating initial parameters\n",
      "INFO flwr 2023-04-30 16:26:31,977 | server.py:91 | initial parameters (loss, other metrics): 14.227757916756769, {'accuracy': 0.6052631578947368}\n",
      "INFO flwr 2023-04-30 16:26:31,978 | server.py:101 | FL starting\n",
      "DEBUG flwr 2023-04-30 16:26:31,978 | server.py:218 | fit_round 1: strategy sampled 5 clients (out of 5)\n",
      "DEBUG flwr 2023-04-30 16:26:32,734 | server.py:232 | fit_round 1 received 5 results and 0 failures\n",
      "WARNING flwr 2023-04-30 16:26:32,738 | fedavg.py:243 | No fit_metrics_aggregation_fn provided\n",
      "INFO flwr 2023-04-30 16:26:32,741 | server.py:119 | fit progress: (1, 21.815895472360378, {'accuracy': 0.9298245614035088}, 0.7630181000004086)\n",
      "DEBUG flwr 2023-04-30 16:26:32,742 | server.py:168 | evaluate_round 1: strategy sampled 5 clients (out of 5)\n",
      "DEBUG flwr 2023-04-30 16:26:32,763 | server.py:182 | evaluate_round 1 received 5 results and 0 failures\n",
      "DEBUG flwr 2023-04-30 16:26:32,763 | server.py:218 | fit_round 2: strategy sampled 5 clients (out of 5)\n",
      "DEBUG flwr 2023-04-30 16:26:32,780 | server.py:232 | fit_round 2 received 5 results and 0 failures\n",
      "INFO flwr 2023-04-30 16:26:32,788 | server.py:119 | fit progress: (2, 21.815895472360378, {'accuracy': 0.956140350877193}, 0.8099973000007594)\n",
      "DEBUG flwr 2023-04-30 16:26:32,788 | server.py:168 | evaluate_round 2: strategy sampled 5 clients (out of 5)\n",
      "DEBUG flwr 2023-04-30 16:26:32,806 | server.py:182 | evaluate_round 2 received 5 results and 0 failures\n",
      "DEBUG flwr 2023-04-30 16:26:32,807 | server.py:218 | fit_round 3: strategy sampled 5 clients (out of 5)\n",
      "DEBUG flwr 2023-04-30 16:26:32,826 | server.py:232 | fit_round 3 received 5 results and 0 failures\n",
      "INFO flwr 2023-04-30 16:26:32,833 | server.py:119 | fit progress: (3, 21.815895472360378, {'accuracy': 0.9473684210526315}, 0.8546301000005769)\n",
      "DEBUG flwr 2023-04-30 16:26:32,834 | server.py:168 | evaluate_round 3: strategy sampled 5 clients (out of 5)\n",
      "DEBUG flwr 2023-04-30 16:26:32,851 | server.py:182 | evaluate_round 3 received 5 results and 0 failures\n",
      "DEBUG flwr 2023-04-30 16:26:32,853 | server.py:218 | fit_round 4: strategy sampled 5 clients (out of 5)\n",
      "DEBUG flwr 2023-04-30 16:26:32,872 | server.py:232 | fit_round 4 received 5 results and 0 failures\n",
      "INFO flwr 2023-04-30 16:26:32,880 | server.py:119 | fit progress: (4, 21.815895472360378, {'accuracy': 0.9736842105263158}, 0.9014920000008715)\n",
      "DEBUG flwr 2023-04-30 16:26:32,880 | server.py:168 | evaluate_round 4: strategy sampled 5 clients (out of 5)\n",
      "DEBUG flwr 2023-04-30 16:26:32,896 | server.py:182 | evaluate_round 4 received 5 results and 0 failures\n",
      "DEBUG flwr 2023-04-30 16:26:32,896 | server.py:218 | fit_round 5: strategy sampled 5 clients (out of 5)\n",
      "DEBUG flwr 2023-04-30 16:26:32,915 | server.py:232 | fit_round 5 received 5 results and 0 failures\n",
      "INFO flwr 2023-04-30 16:26:32,922 | server.py:119 | fit progress: (5, 21.815895472360378, {'accuracy': 0.9649122807017544}, 0.9444844000008743)\n",
      "DEBUG flwr 2023-04-30 16:26:32,923 | server.py:168 | evaluate_round 5: strategy sampled 5 clients (out of 5)\n",
      "DEBUG flwr 2023-04-30 16:26:32,940 | server.py:182 | evaluate_round 5 received 5 results and 0 failures\n",
      "DEBUG flwr 2023-04-30 16:26:32,941 | server.py:218 | fit_round 6: strategy sampled 5 clients (out of 5)\n",
      "DEBUG flwr 2023-04-30 16:26:32,959 | server.py:232 | fit_round 6 received 5 results and 0 failures\n",
      "INFO flwr 2023-04-30 16:26:32,967 | server.py:119 | fit progress: (6, 21.815895472360378, {'accuracy': 0.9824561403508771}, 0.9887488000003941)\n",
      "DEBUG flwr 2023-04-30 16:26:32,967 | server.py:168 | evaluate_round 6: strategy sampled 5 clients (out of 5)\n",
      "DEBUG flwr 2023-04-30 16:26:32,986 | server.py:182 | evaluate_round 6 received 5 results and 0 failures\n",
      "DEBUG flwr 2023-04-30 16:26:32,986 | server.py:218 | fit_round 7: strategy sampled 5 clients (out of 5)\n",
      "DEBUG flwr 2023-04-30 16:26:33,005 | server.py:232 | fit_round 7 received 5 results and 0 failures\n",
      "INFO flwr 2023-04-30 16:26:33,013 | server.py:119 | fit progress: (7, 21.815895472360378, {'accuracy': 0.9736842105263158}, 1.0343962000006286)\n",
      "DEBUG flwr 2023-04-30 16:26:33,013 | server.py:168 | evaluate_round 7: strategy sampled 5 clients (out of 5)\n",
      "DEBUG flwr 2023-04-30 16:26:33,032 | server.py:182 | evaluate_round 7 received 5 results and 0 failures\n",
      "DEBUG flwr 2023-04-30 16:26:33,033 | server.py:218 | fit_round 8: strategy sampled 5 clients (out of 5)\n",
      "DEBUG flwr 2023-04-30 16:26:33,057 | server.py:232 | fit_round 8 received 5 results and 0 failures\n",
      "INFO flwr 2023-04-30 16:26:33,065 | server.py:119 | fit progress: (8, 21.815895472360378, {'accuracy': 0.9824561403508771}, 1.0864398000012443)\n",
      "DEBUG flwr 2023-04-30 16:26:33,065 | server.py:168 | evaluate_round 8: strategy sampled 5 clients (out of 5)\n",
      "DEBUG flwr 2023-04-30 16:26:33,086 | server.py:182 | evaluate_round 8 received 5 results and 0 failures\n",
      "DEBUG flwr 2023-04-30 16:26:33,088 | server.py:218 | fit_round 9: strategy sampled 5 clients (out of 5)\n",
      "DEBUG flwr 2023-04-30 16:26:33,104 | server.py:232 | fit_round 9 received 5 results and 0 failures\n",
      "INFO flwr 2023-04-30 16:26:33,111 | server.py:119 | fit progress: (9, 21.815895472360378, {'accuracy': 0.9736842105263158}, 1.133544600001187)\n",
      "DEBUG flwr 2023-04-30 16:26:33,112 | server.py:168 | evaluate_round 9: strategy sampled 5 clients (out of 5)\n",
      "DEBUG flwr 2023-04-30 16:26:33,131 | server.py:182 | evaluate_round 9 received 5 results and 0 failures\n",
      "DEBUG flwr 2023-04-30 16:26:33,131 | server.py:218 | fit_round 10: strategy sampled 5 clients (out of 5)\n",
      "DEBUG flwr 2023-04-30 16:26:33,151 | server.py:232 | fit_round 10 received 5 results and 0 failures\n",
      "INFO flwr 2023-04-30 16:26:33,157 | server.py:119 | fit progress: (10, 21.815895472360378, {'accuracy': 0.9736842105263158}, 1.1793906000002607)\n",
      "DEBUG flwr 2023-04-30 16:26:33,158 | server.py:168 | evaluate_round 10: strategy sampled 5 clients (out of 5)\n",
      "DEBUG flwr 2023-04-30 16:26:33,176 | server.py:182 | evaluate_round 10 received 5 results and 0 failures\n",
      "INFO flwr 2023-04-30 16:26:33,178 | server.py:147 | FL finished in 1.199596600001314\n",
      "INFO flwr 2023-04-30 16:26:33,179 | app.py:218 | app_fit: losses_distributed [(1, 21.815895472360378), (2, 21.815895472360378), (3, 21.815895472360378), (4, 21.815895472360378), (5, 21.815895472360378), (6, 21.815895472360378), (7, 21.815895472360378), (8, 21.815895472360378), (9, 21.815895472360378), (10, 21.815895472360378)]\n",
      "INFO flwr 2023-04-30 16:26:33,180 | app.py:219 | app_fit: metrics_distributed_fit {}\n",
      "INFO flwr 2023-04-30 16:26:33,180 | app.py:220 | app_fit: metrics_distributed {'accuracy': [(1, 0.39473684210526316), (2, 0.39473684210526316), (3, 0.39473684210526316), (4, 0.39473684210526316), (5, 0.39473684210526316), (6, 0.39473684210526316), (7, 0.39473684210526316), (8, 0.39473684210526316), (9, 0.39473684210526316), (10, 0.39473684210526316)]}\n",
      "INFO flwr 2023-04-30 16:26:33,181 | app.py:221 | app_fit: losses_centralized [(0, 14.227757916756769), (1, 21.815895472360378), (2, 21.815895472360378), (3, 21.815895472360378), (4, 21.815895472360378), (5, 21.815895472360378), (6, 21.815895472360378), (7, 21.815895472360378), (8, 21.815895472360378), (9, 21.815895472360378), (10, 21.815895472360378)]\n",
      "INFO flwr 2023-04-30 16:26:33,182 | app.py:222 | app_fit: metrics_centralized {'accuracy': [(0, 0.6052631578947368), (1, 0.9298245614035088), (2, 0.956140350877193), (3, 0.9473684210526315), (4, 0.9736842105263158), (5, 0.9649122807017544), (6, 0.9824561403508771), (7, 0.9736842105263158), (8, 0.9824561403508771), (9, 0.9736842105263158), (10, 0.9736842105263158)]}\n"
     ]
    }
   ],
   "source": [
    "n_rounds = 10\n",
    "hist = fl.simulation.start_simulation(\n",
    "    client_fn=launch_client,\n",
    "    num_clients=5,\n",
    "    config=fl.server.ServerConfig(num_rounds=n_rounds),\n",
    "    strategy=strategy,\n",
    "    client_resources=None,    \n",
    ")"
   ]
  },
  {
   "cell_type": "code",
   "execution_count": 107,
   "metadata": {},
   "outputs": [
    {
     "data": {
      "image/png": "[encoded data removed]",
      "text/plain": [
       "<Figure size 640x480 with 1 Axes>"
      ]
     },
     "metadata": {},
     "output_type": "display_data"
    }
   ],
   "source": [
    "dist_acc = [acc for round_n, acc in hist.metrics_distributed[\"accuracy\"]]\n",
    "centr_acc = [acc for round_n, acc in hist.metrics_centralized[\"accuracy\"]]\n",
    "\n",
    "plt.plot(range(1, n_rounds+1), dist_acc, \".-\", label=\"accuracy (distributed)\")\n",
    "plt.plot(range(1, n_rounds+2), centr_acc, \".-\", label=\"accuracy (centralized)\") # Centralized metrics have a first evaluation done with the initial weights\n",
    "plt.legend()\n",
    "plt.xlabel(\"Round number\")\n",
    "plt.ylabel(\"Accuracy\")\n",
    "plt.show()\n"
   ]
  },
  {
   "cell_type": "code",
   "execution_count": null,
   "metadata": {},
   "outputs": [],
   "source": []
  }
 ],
 "metadata": {
  "kernelspec": {
   "display_name": "fed_learn",
   "language": "python",
   "name": "python3"
  },
  "language_info": {
   "codemirror_mode": {
    "name": "ipython",
    "version": 3
   },
   "file_extension": ".py",
   "mimetype": "text/x-python",
   "name": "python",
   "nbconvert_exporter": "python",
   "pygments_lexer": "ipython3",
   "version": "3.9.16"
  },
  "orig_nbformat": 4
 },
 "nbformat": 4,
 "nbformat_minor": 2
}
