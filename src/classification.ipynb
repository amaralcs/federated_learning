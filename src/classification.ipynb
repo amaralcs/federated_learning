{
 "cells": [
  {
   "cell_type": "code",
   "execution_count": 1,
   "metadata": {},
   "outputs": [
    {
     "name": "stdout",
     "output_type": "stream",
     "text": [
      "(569, 30) (569,)\n",
      "Target classes: ['malignant' 'benign']\n"
     ]
    }
   ],
   "source": [
    "from sklearn.datasets import load_breast_cancer\n",
    "import numpy as np\n",
    "from typing import Tuple, Union, List\n",
    "\n",
    "random_state = 88844\n",
    "rng = np.random.default_rng(seed=random_state)\n",
    "\n",
    "data = load_breast_cancer()\n",
    "X, y = data[\"data\"], data[\"target\"]\n",
    "feature_names = data[\"feature_names\"]\n",
    "target_names = data[\"target_names\"]\n",
    "\n",
    "print(X.shape, y.shape)\n",
    "print(\"Target classes:\", target_names)\n"
   ]
  },
  {
   "attachments": {},
   "cell_type": "markdown",
   "metadata": {},
   "source": [
    "# Baseline model"
   ]
  },
  {
   "cell_type": "code",
   "execution_count": 2,
   "metadata": {},
   "outputs": [
    {
     "name": "stdout",
     "output_type": "stream",
     "text": [
      "X_train size: (455, 30)\n",
      "X_test size: (114, 30)\n",
      "              precision    recall  f1-score   support\n",
      "\n",
      "           0       0.98      0.96      0.97        45\n",
      "           1       0.97      0.99      0.98        69\n",
      "\n",
      "    accuracy                           0.97       114\n",
      "   macro avg       0.97      0.97      0.97       114\n",
      "weighted avg       0.97      0.97      0.97       114\n",
      "\n"
     ]
    }
   ],
   "source": [
    "from sklearn.linear_model import LogisticRegression\n",
    "from sklearn.preprocessing import StandardScaler\n",
    "from sklearn.model_selection import train_test_split\n",
    "from sklearn.pipeline import make_pipeline\n",
    "from sklearn.metrics import classification_report\n",
    "\n",
    "X_train, X_test, y_train, y_test = train_test_split(\n",
    "    X, y, test_size=0.2, random_state=random_state\n",
    ")\n",
    "print(f\"X_train size: {X_train.shape}\")\n",
    "print(f\"X_test size: {X_test.shape}\")\n",
    "\n",
    "pipe = make_pipeline(StandardScaler(), LogisticRegression())\n",
    "\n",
    "pipe.fit(X_train, y_train)\n",
    "\n",
    "y_test_preds = pipe.predict(X_test)\n",
    "print(classification_report(y_test, y_test_preds))\n"
   ]
  },
  {
   "attachments": {},
   "cell_type": "markdown",
   "metadata": {},
   "source": [
    "# Implementing the same model using `flower`"
   ]
  },
  {
   "attachments": {},
   "cell_type": "markdown",
   "metadata": {},
   "source": [
    "## Ingredients:\n",
    "1. Split the data into $n$ datasets, each representing a different location where the data lives\n",
    "2. Define functions for:\n",
    "    - Getting model parameters\n",
    "    - Setting model parameters\n",
    "3. Define `FlowerClient` \n",
    "    - Should contain the following:\n",
    "        - `get_parameters`\n",
    "        - `fit`\n",
    "        - `evaluate`\n",
    "4. Set Federated learning strategy\n",
    "6. Simulate!"
   ]
  },
  {
   "attachments": {},
   "cell_type": "markdown",
   "metadata": {},
   "source": [
    "## 1. Data setup\n",
    "Since we have ~450 training instances, let's say we have $n=5$ different hospitals where the breast cancer data lives"
   ]
  },
  {
   "cell_type": "code",
   "execution_count": 3,
   "metadata": {},
   "outputs": [
    {
     "data": {
      "text/plain": [
       "((91, 30), (91,))"
      ]
     },
     "execution_count": 3,
     "metadata": {},
     "output_type": "execute_result"
    }
   ],
   "source": [
    "def split_dataset(\n",
    "    X: np.array, y: np.array, n_clients: int = 5\n",
    ") -> List[Tuple[np.array, np.array]]:\n",
    "    n_clients = 5\n",
    "    partition_sizes = len(X) // n_clients\n",
    "\n",
    "    partition_indices = rng.choice(\n",
    "        len(X), size=(n_clients, partition_sizes), replace=False\n",
    "    )\n",
    "    sets = [(X[pidx], y[pidx]) for pidx in partition_indices]\n",
    "    return sets\n",
    "\n",
    "\n",
    "train_sets = split_dataset(X_train, y_train)\n",
    "train_sets[0][0].shape, train_sets[0][1].shape  # Number of samples for our first client\n"
   ]
  },
  {
   "attachments": {},
   "cell_type": "markdown",
   "metadata": {},
   "source": [
    "We'll have a single test set shared across all clients"
   ]
  },
  {
   "cell_type": "code",
   "execution_count": 4,
   "metadata": {},
   "outputs": [],
   "source": [
    "test_set = (X_test, y_test)"
   ]
  },
  {
   "attachments": {},
   "cell_type": "markdown",
   "metadata": {},
   "source": [
    "## 2. Fetching/reloading model parameters\n",
    "Taken from the `flower` [sklearn example](https://github.com/adap/flower/blob/main/examples/sklearn-logreg-mnist/utils.py)"
   ]
  },
  {
   "cell_type": "code",
   "execution_count": 5,
   "metadata": {},
   "outputs": [],
   "source": [
    "XY = Tuple[np.ndarray, np.ndarray]\n",
    "LogRegParams = Union[XY, Tuple[np.ndarray]]\n",
    "\n",
    "\n",
    "def get_model_parameters(model: LogisticRegression) -> LogRegParams:\n",
    "    \"\"\"Returns the paramters of a sklearn LogisticRegression model.\"\"\"\n",
    "    if model.fit_intercept:\n",
    "        params = [\n",
    "            model.coef_,\n",
    "            model.intercept_,\n",
    "        ]\n",
    "    else:\n",
    "        params = [\n",
    "            model.coef_,\n",
    "        ]\n",
    "    return params\n",
    "\n",
    "\n",
    "def set_model_params(\n",
    "    model: LogisticRegression, params: LogRegParams\n",
    ") -> LogisticRegression:\n",
    "    \"\"\"Sets the parameters of a sklean LogisticRegression model.\"\"\"\n",
    "    model.coef_ = params[0]\n",
    "    if model.fit_intercept:\n",
    "        model.intercept_ = params[1]\n",
    "    return model\n"
   ]
  },
  {
   "attachments": {},
   "cell_type": "markdown",
   "metadata": {},
   "source": [
    "## 3. Define FlowerClient"
   ]
  },
  {
   "cell_type": "code",
   "execution_count": 6,
   "metadata": {},
   "outputs": [],
   "source": [
    "import warnings\n",
    "import flwr as fl\n",
    "from sklearn.metrics import log_loss\n",
    "\n",
    "class BreastCancerClient(fl.client.NumPyClient):\n",
    "    def __init__(self, model, train_set, test_set):\n",
    "        self.pipe = pipe\n",
    "        self.clf = self.pipe.steps[-1][0]\n",
    "        self.X_train, self.y_train = train_set\n",
    "        self.X_test, self.y_test = test_set\n",
    "\n",
    "    def get_parameters(self, config):\n",
    "        return get_model_parameters(self.pipe)\n",
    "\n",
    "    def fit(self, parameters, config):\n",
    "        set_model_params(self.pipe, parameters)\n",
    "        with warnings.catch_warnings():\n",
    "            warnings.simplefilter(\"ignore\")\n",
    "            self.pip.fit(self.X_train, self.y_train)\n",
    "\n",
    "        print(f\"Training finished for round {config['server_round']}\")\n",
    "        return get_model_parameters(self.pipe), len(self.X_train), {}\n",
    "\n",
    "    def evaluate(self, parameters, config):  # type: ignore\n",
    "        set_model_params(self.pipe, parameters)\n",
    "        loss = log_loss(self.y_test, self.clf.predict_proba(self.X_test))\n",
    "        accuracy = self.clf.score(self.X_test, self.y_test)\n",
    "        return loss, len(self.X_test), {\"accuracy\": accuracy}\n",
    "\n",
    "def launch_client(client_id, train_sets=train_sets, test_set=test_set):\n",
    "    model = make_pipeline(StandardScaler(), LogisticRegression(max_iter=1, warm_start=True))\n",
    "    train_set = train_sets[client_id]\n",
    "    return BreastCancerClient(model, train_set, test_set)"
   ]
  },
  {
   "attachments": {},
   "cell_type": "markdown",
   "metadata": {},
   "source": [
    "## 5. Set Federated learning strategy\n"
   ]
  },
  {
   "cell_type": "code",
   "execution_count": 7,
   "metadata": {},
   "outputs": [
    {
     "name": "stdout",
     "output_type": "stream",
     "text": [
      "Help on class FedAvg in module flwr.server.strategy.fedavg:\n",
      "\n",
      "class FedAvg(flwr.server.strategy.strategy.Strategy)\n",
      " |  FedAvg(*, fraction_fit: float = 1.0, fraction_evaluate: float = 1.0, min_fit_clients: int = 2, min_evaluate_clients: int = 2, min_available_clients: int = 2, evaluate_fn: Optional[Callable[[int, List[numpy.ndarray[Any, numpy.dtype[Any]]], Dict[str, Union[bool, bytes, float, int, str]]], Optional[Tuple[float, Dict[str, Union[bool, bytes, float, int, str]]]]]] = None, on_fit_config_fn: Optional[Callable[[int], Dict[str, Union[bool, bytes, float, int, str]]]] = None, on_evaluate_config_fn: Optional[Callable[[int], Dict[str, Union[bool, bytes, float, int, str]]]] = None, accept_failures: bool = True, initial_parameters: Optional[flwr.common.Parameters] = None, fit_metrics_aggregation_fn: Optional[Callable[[List[Tuple[int, Dict[str, Union[bool, bytes, float, int, str]]]]], Dict[str, Union[bool, bytes, float, int, str]]]] = None, evaluate_metrics_aggregation_fn: Optional[Callable[[List[Tuple[int, Dict[str, Union[bool, bytes, float, int, str]]]]], Dict[str, Union[bool, bytes, float, int, str]]]] = None) -> None\n",
      " |  \n",
      " |  Configurable FedAvg strategy implementation.\n",
      " |  \n",
      " |  Method resolution order:\n",
      " |      FedAvg\n",
      " |      flwr.server.strategy.strategy.Strategy\n",
      " |      abc.ABC\n",
      " |      builtins.object\n",
      " |  \n",
      " |  Methods defined here:\n",
      " |  \n",
      " |  __init__(self, *, fraction_fit: float = 1.0, fraction_evaluate: float = 1.0, min_fit_clients: int = 2, min_evaluate_clients: int = 2, min_available_clients: int = 2, evaluate_fn: Optional[Callable[[int, List[numpy.ndarray[Any, numpy.dtype[Any]]], Dict[str, Union[bool, bytes, float, int, str]]], Optional[Tuple[float, Dict[str, Union[bool, bytes, float, int, str]]]]]] = None, on_fit_config_fn: Optional[Callable[[int], Dict[str, Union[bool, bytes, float, int, str]]]] = None, on_evaluate_config_fn: Optional[Callable[[int], Dict[str, Union[bool, bytes, float, int, str]]]] = None, accept_failures: bool = True, initial_parameters: Optional[flwr.common.Parameters] = None, fit_metrics_aggregation_fn: Optional[Callable[[List[Tuple[int, Dict[str, Union[bool, bytes, float, int, str]]]]], Dict[str, Union[bool, bytes, float, int, str]]]] = None, evaluate_metrics_aggregation_fn: Optional[Callable[[List[Tuple[int, Dict[str, Union[bool, bytes, float, int, str]]]]], Dict[str, Union[bool, bytes, float, int, str]]]] = None) -> None\n",
      " |      Federated Averaging strategy.\n",
      " |      \n",
      " |      Implementation based on https://arxiv.org/abs/1602.05629\n",
      " |      \n",
      " |      Parameters\n",
      " |      ----------\n",
      " |      fraction_fit : float, optional\n",
      " |          Fraction of clients used during training. In case `min_fit_clients`\n",
      " |          is larger than `fraction_fit * available_clients`, `min_fit_clients`\n",
      " |          will still be sampled. Defaults to 1.0.\n",
      " |      fraction_evaluate : float, optional\n",
      " |          Fraction of clients used during validation. In case `min_evaluate_clients`\n",
      " |          is larger than `fraction_evaluate * available_clients`, `min_evaluate_clients`\n",
      " |          will still be sampled. Defaults to 1.0.\n",
      " |      min_fit_clients : int, optional\n",
      " |          Minimum number of clients used during training. Defaults to 2.\n",
      " |      min_evaluate_clients : int, optional\n",
      " |          Minimum number of clients used during validation. Defaults to 2.\n",
      " |      min_available_clients : int, optional\n",
      " |          Minimum number of total clients in the system. Defaults to 2.\n",
      " |      evaluate_fn : Optional[Callable[[int, NDArrays, Dict[str, Scalar]], Optional[Tuple[float, Dict[str, Scalar]]]]]\n",
      " |          Optional function used for validation. Defaults to None.\n",
      " |      on_fit_config_fn : Callable[[int], Dict[str, Scalar]], optional\n",
      " |          Function used to configure training. Defaults to None.\n",
      " |      on_evaluate_config_fn : Callable[[int], Dict[str, Scalar]], optional\n",
      " |          Function used to configure validation. Defaults to None.\n",
      " |      accept_failures : bool, optional\n",
      " |          Whether or not accept rounds containing failures. Defaults to True.\n",
      " |      initial_parameters : Parameters, optional\n",
      " |          Initial global model parameters.\n",
      " |      fit_metrics_aggregation_fn : Optional[MetricsAggregationFn]\n",
      " |          Metrics aggregation function, optional.\n",
      " |      evaluate_metrics_aggregation_fn : Optional[MetricsAggregationFn]\n",
      " |          Metrics aggregation function, optional.\n",
      " |  \n",
      " |  __repr__(self) -> str\n",
      " |      Return repr(self).\n",
      " |  \n",
      " |  aggregate_evaluate(self, server_round: int, results: List[Tuple[flwr.server.client_proxy.ClientProxy, flwr.common.EvaluateRes]], failures: List[Union[Tuple[flwr.server.client_proxy.ClientProxy, flwr.common.EvaluateRes], BaseException]]) -> Tuple[Optional[float], Dict[str, Union[bool, bytes, float, int, str]]]\n",
      " |      Aggregate evaluation losses using weighted average.\n",
      " |  \n",
      " |  aggregate_fit(self, server_round: int, results: List[Tuple[flwr.server.client_proxy.ClientProxy, flwr.common.FitRes]], failures: List[Union[Tuple[flwr.server.client_proxy.ClientProxy, flwr.common.FitRes], BaseException]]) -> Tuple[Optional[flwr.common.Parameters], Dict[str, Union[bool, bytes, float, int, str]]]\n",
      " |      Aggregate fit results using weighted average.\n",
      " |  \n",
      " |  configure_evaluate(self, server_round: int, parameters: flwr.common.typing.Parameters, client_manager: flwr.server.client_manager.ClientManager) -> List[Tuple[flwr.server.client_proxy.ClientProxy, flwr.common.EvaluateIns]]\n",
      " |      Configure the next round of evaluation.\n",
      " |  \n",
      " |  configure_fit(self, server_round: int, parameters: flwr.common.typing.Parameters, client_manager: flwr.server.client_manager.ClientManager) -> List[Tuple[flwr.server.client_proxy.ClientProxy, flwr.common.FitIns]]\n",
      " |      Configure the next round of training.\n",
      " |  \n",
      " |  evaluate(self, server_round: int, parameters: flwr.common.typing.Parameters) -> Optional[Tuple[float, Dict[str, Union[bool, bytes, float, int, str]]]]\n",
      " |      Evaluate model parameters using an evaluation function.\n",
      " |  \n",
      " |  initialize_parameters(self, client_manager: flwr.server.client_manager.ClientManager) -> Optional[flwr.common.Parameters]\n",
      " |      Initialize global model parameters.\n",
      " |  \n",
      " |  num_evaluation_clients(self, num_available_clients: int) -> Tuple[int, int]\n",
      " |      Use a fraction of available clients for evaluation.\n",
      " |  \n",
      " |  num_fit_clients(self, num_available_clients: int) -> Tuple[int, int]\n",
      " |      Return the sample size and the required number of available\n",
      " |      clients.\n",
      " |  \n",
      " |  ----------------------------------------------------------------------\n",
      " |  Data and other attributes defined here:\n",
      " |  \n",
      " |  __abstractmethods__ = frozenset()\n",
      " |  \n",
      " |  ----------------------------------------------------------------------\n",
      " |  Data descriptors inherited from flwr.server.strategy.strategy.Strategy:\n",
      " |  \n",
      " |  __dict__\n",
      " |      dictionary for instance variables (if defined)\n",
      " |  \n",
      " |  __weakref__\n",
      " |      list of weak references to the object (if defined)\n",
      "\n"
     ]
    }
   ],
   "source": [
    "help(fl.server.strategy.FedAvg)"
   ]
  },
  {
   "cell_type": "code",
   "execution_count": 8,
   "metadata": {},
   "outputs": [
    {
     "data": {
      "text/plain": [
       "'1.4.0'"
      ]
     },
     "execution_count": 8,
     "metadata": {},
     "output_type": "execute_result"
    }
   ],
   "source": [
    "fl.__version__"
   ]
  },
  {
   "cell_type": "code",
   "execution_count": 9,
   "metadata": {},
   "outputs": [],
   "source": [
    "strategy = fl.server.strategy.FedAvg(\n",
    "    fraction_fit=1.0,  # Sample 100% of available clients for training\n",
    "    fraction_evaluate=0.5,  # Sample 50% of available clients for evaluation\n",
    "    min_fit_clients=5,\n",
    "    min_evaluate_clients=1,  # Never sample less than 5 clients for evaluation\n",
    "    min_available_clients=5,  # Wait until all 10 clients are available\n",
    ")"
   ]
  },
  {
   "cell_type": "markdown",
   "metadata": {},
   "source": [
    "## 6. Simulate!"
   ]
  },
  {
   "cell_type": "code",
   "execution_count": 10,
   "metadata": {},
   "outputs": [
    {
     "name": "stderr",
     "output_type": "stream",
     "text": [
      "INFO flwr 2023-04-26 22:44:12,633 | app.py:146 | Starting Flower simulation, config: ServerConfig(num_rounds=5, round_timeout=None)\n",
      "2023-04-26 22:44:15,517\tINFO worker.py:1625 -- Started a local Ray instance.\n",
      "INFO flwr 2023-04-26 22:44:18,946 | app.py:180 | Flower VCE: Ray initialized with resources: {'GPU': 1.0, 'memory': 31434751182.0, 'CPU': 24.0, 'node:127.0.0.1': 1.0, 'object_store_memory': 15717375590.0}\n",
      "INFO flwr 2023-04-26 22:44:18,947 | server.py:86 | Initializing global parameters\n",
      "INFO flwr 2023-04-26 22:44:18,948 | server.py:273 | Requesting initial parameters from one random client\n",
      "ERROR flwr 2023-04-26 22:44:19,881 | ray_client_proxy.py:72 | \u001b[36mray::launch_and_get_parameters()\u001b[39m (pid=23912, ip=127.0.0.1)\n",
      "  File \"python\\ray\\_raylet.pyx\", line 877, in ray._raylet.execute_task\n",
      "  File \"python\\ray\\_raylet.pyx\", line 881, in ray._raylet.execute_task\n",
      "  File \"c:\\Users\\gamin\\anaconda3\\envs\\fed_learn\\lib\\site-packages\\flwr\\simulation\\ray_transport\\ray_client_proxy.py\", line 135, in launch_and_get_parameters\n",
      "    client: Client = _create_client(client_fn, cid)\n",
      "  File \"c:\\Users\\gamin\\anaconda3\\envs\\fed_learn\\lib\\site-packages\\flwr\\simulation\\ray_transport\\ray_client_proxy.py\", line 168, in _create_client\n",
      "    client_like: ClientLike = client_fn(cid)\n",
      "  File \"C:\\Users\\gamin\\AppData\\Local\\Temp\\ipykernel_18672\\1446647322.py\", line 32, in launch_client\n",
      "TypeError: list indices must be integers or slices, not str\n"
     ]
    },
    {
     "ename": "RayTaskError(TypeError)",
     "evalue": "\u001b[36mray::launch_and_get_parameters()\u001b[39m (pid=23912, ip=127.0.0.1)\n  File \"python\\ray\\_raylet.pyx\", line 877, in ray._raylet.execute_task\n  File \"python\\ray\\_raylet.pyx\", line 881, in ray._raylet.execute_task\n  File \"c:\\Users\\gamin\\anaconda3\\envs\\fed_learn\\lib\\site-packages\\flwr\\simulation\\ray_transport\\ray_client_proxy.py\", line 135, in launch_and_get_parameters\n    client: Client = _create_client(client_fn, cid)\n  File \"c:\\Users\\gamin\\anaconda3\\envs\\fed_learn\\lib\\site-packages\\flwr\\simulation\\ray_transport\\ray_client_proxy.py\", line 168, in _create_client\n    client_like: ClientLike = client_fn(cid)\n  File \"C:\\Users\\gamin\\AppData\\Local\\Temp\\ipykernel_18672\\1446647322.py\", line 32, in launch_client\nTypeError: list indices must be integers or slices, not str",
     "output_type": "error",
     "traceback": [
      "\u001b[1;31m---------------------------------------------------------------------------\u001b[0m",
      "\u001b[1;31mRayTaskError(TypeError)\u001b[0m                   Traceback (most recent call last)",
      "Cell \u001b[1;32mIn[10], line 1\u001b[0m\n\u001b[1;32m----> 1\u001b[0m fl\u001b[39m.\u001b[39;49msimulation\u001b[39m.\u001b[39;49mstart_simulation(\n\u001b[0;32m      2\u001b[0m     client_fn\u001b[39m=\u001b[39;49mlaunch_client,\n\u001b[0;32m      3\u001b[0m     num_clients\u001b[39m=\u001b[39;49m\u001b[39m5\u001b[39;49m,\n\u001b[0;32m      4\u001b[0m     config\u001b[39m=\u001b[39;49mfl\u001b[39m.\u001b[39;49mserver\u001b[39m.\u001b[39;49mServerConfig(num_rounds\u001b[39m=\u001b[39;49m\u001b[39m5\u001b[39;49m),\n\u001b[0;32m      5\u001b[0m     strategy\u001b[39m=\u001b[39;49mstrategy,\n\u001b[0;32m      6\u001b[0m     client_resources\u001b[39m=\u001b[39;49m\u001b[39mNone\u001b[39;49;00m,\n\u001b[0;32m      7\u001b[0m )\n",
      "File \u001b[1;32mc:\\Users\\gamin\\anaconda3\\envs\\fed_learn\\lib\\site-packages\\flwr\\simulation\\app.py:197\u001b[0m, in \u001b[0;36mstart_simulation\u001b[1;34m(client_fn, num_clients, clients_ids, client_resources, server, config, strategy, client_manager, ray_init_args, keep_initialised)\u001b[0m\n\u001b[0;32m    194\u001b[0m     initialized_server\u001b[39m.\u001b[39mclient_manager()\u001b[39m.\u001b[39mregister(client\u001b[39m=\u001b[39mclient_proxy)\n\u001b[0;32m    196\u001b[0m \u001b[39m# Start training\u001b[39;00m\n\u001b[1;32m--> 197\u001b[0m hist \u001b[39m=\u001b[39m _fl(\n\u001b[0;32m    198\u001b[0m     server\u001b[39m=\u001b[39;49minitialized_server,\n\u001b[0;32m    199\u001b[0m     config\u001b[39m=\u001b[39;49minitialized_config,\n\u001b[0;32m    200\u001b[0m )\n\u001b[0;32m    202\u001b[0m event(EventType\u001b[39m.\u001b[39mSTART_SIMULATION_LEAVE)\n\u001b[0;32m    204\u001b[0m \u001b[39mreturn\u001b[39;00m hist\n",
      "File \u001b[1;32mc:\\Users\\gamin\\anaconda3\\envs\\fed_learn\\lib\\site-packages\\flwr\\server\\app.py:217\u001b[0m, in \u001b[0;36m_fl\u001b[1;34m(server, config)\u001b[0m\n\u001b[0;32m    212\u001b[0m \u001b[39mdef\u001b[39;00m \u001b[39m_fl\u001b[39m(\n\u001b[0;32m    213\u001b[0m     server: Server,\n\u001b[0;32m    214\u001b[0m     config: ServerConfig,\n\u001b[0;32m    215\u001b[0m ) \u001b[39m-\u001b[39m\u001b[39m>\u001b[39m History:\n\u001b[0;32m    216\u001b[0m     \u001b[39m# Fit model\u001b[39;00m\n\u001b[1;32m--> 217\u001b[0m     hist \u001b[39m=\u001b[39m server\u001b[39m.\u001b[39;49mfit(num_rounds\u001b[39m=\u001b[39;49mconfig\u001b[39m.\u001b[39;49mnum_rounds, timeout\u001b[39m=\u001b[39;49mconfig\u001b[39m.\u001b[39;49mround_timeout)\n\u001b[0;32m    218\u001b[0m     log(INFO, \u001b[39m\"\u001b[39m\u001b[39mapp_fit: losses_distributed \u001b[39m\u001b[39m%s\u001b[39;00m\u001b[39m\"\u001b[39m, \u001b[39mstr\u001b[39m(hist\u001b[39m.\u001b[39mlosses_distributed))\n\u001b[0;32m    219\u001b[0m     log(INFO, \u001b[39m\"\u001b[39m\u001b[39mapp_fit: metrics_distributed_fit \u001b[39m\u001b[39m%s\u001b[39;00m\u001b[39m\"\u001b[39m, \u001b[39mstr\u001b[39m(hist\u001b[39m.\u001b[39mmetrics_distributed_fit))\n",
      "File \u001b[1;32mc:\\Users\\gamin\\anaconda3\\envs\\fed_learn\\lib\\site-packages\\flwr\\server\\server.py:87\u001b[0m, in \u001b[0;36mServer.fit\u001b[1;34m(self, num_rounds, timeout)\u001b[0m\n\u001b[0;32m     85\u001b[0m \u001b[39m# Initialize parameters\u001b[39;00m\n\u001b[0;32m     86\u001b[0m log(INFO, \u001b[39m\"\u001b[39m\u001b[39mInitializing global parameters\u001b[39m\u001b[39m\"\u001b[39m)\n\u001b[1;32m---> 87\u001b[0m \u001b[39mself\u001b[39m\u001b[39m.\u001b[39mparameters \u001b[39m=\u001b[39m \u001b[39mself\u001b[39;49m\u001b[39m.\u001b[39;49m_get_initial_parameters(timeout\u001b[39m=\u001b[39;49mtimeout)\n\u001b[0;32m     88\u001b[0m log(INFO, \u001b[39m\"\u001b[39m\u001b[39mEvaluating initial parameters\u001b[39m\u001b[39m\"\u001b[39m)\n\u001b[0;32m     89\u001b[0m res \u001b[39m=\u001b[39m \u001b[39mself\u001b[39m\u001b[39m.\u001b[39mstrategy\u001b[39m.\u001b[39mevaluate(\u001b[39m0\u001b[39m, parameters\u001b[39m=\u001b[39m\u001b[39mself\u001b[39m\u001b[39m.\u001b[39mparameters)\n",
      "File \u001b[1;32mc:\\Users\\gamin\\anaconda3\\envs\\fed_learn\\lib\\site-packages\\flwr\\server\\server.py:276\u001b[0m, in \u001b[0;36mServer._get_initial_parameters\u001b[1;34m(self, timeout)\u001b[0m\n\u001b[0;32m    274\u001b[0m random_client \u001b[39m=\u001b[39m \u001b[39mself\u001b[39m\u001b[39m.\u001b[39m_client_manager\u001b[39m.\u001b[39msample(\u001b[39m1\u001b[39m)[\u001b[39m0\u001b[39m]\n\u001b[0;32m    275\u001b[0m ins \u001b[39m=\u001b[39m GetParametersIns(config\u001b[39m=\u001b[39m{})\n\u001b[1;32m--> 276\u001b[0m get_parameters_res \u001b[39m=\u001b[39m random_client\u001b[39m.\u001b[39;49mget_parameters(ins\u001b[39m=\u001b[39;49mins, timeout\u001b[39m=\u001b[39;49mtimeout)\n\u001b[0;32m    277\u001b[0m log(INFO, \u001b[39m\"\u001b[39m\u001b[39mReceived initial parameters from one random client\u001b[39m\u001b[39m\"\u001b[39m)\n\u001b[0;32m    278\u001b[0m \u001b[39mreturn\u001b[39;00m get_parameters_res\u001b[39m.\u001b[39mparameters\n",
      "File \u001b[1;32mc:\\Users\\gamin\\anaconda3\\envs\\fed_learn\\lib\\site-packages\\flwr\\simulation\\ray_transport\\ray_client_proxy.py:73\u001b[0m, in \u001b[0;36mRayClientProxy.get_parameters\u001b[1;34m(self, ins, timeout)\u001b[0m\n\u001b[0;32m     71\u001b[0m \u001b[39mexcept\u001b[39;00m \u001b[39mException\u001b[39;00m \u001b[39mas\u001b[39;00m ex:\n\u001b[0;32m     72\u001b[0m     log(ERROR, ex)\n\u001b[1;32m---> 73\u001b[0m     \u001b[39mraise\u001b[39;00m ex\n\u001b[0;32m     74\u001b[0m \u001b[39mreturn\u001b[39;00m cast(\n\u001b[0;32m     75\u001b[0m     common\u001b[39m.\u001b[39mGetParametersRes,\n\u001b[0;32m     76\u001b[0m     res,\n\u001b[0;32m     77\u001b[0m )\n",
      "File \u001b[1;32mc:\\Users\\gamin\\anaconda3\\envs\\fed_learn\\lib\\site-packages\\flwr\\simulation\\ray_transport\\ray_client_proxy.py:70\u001b[0m, in \u001b[0;36mRayClientProxy.get_parameters\u001b[1;34m(self, ins, timeout)\u001b[0m\n\u001b[0;32m     66\u001b[0m future_paramseters_res \u001b[39m=\u001b[39m launch_and_get_parameters\u001b[39m.\u001b[39moptions(  \u001b[39m# type: ignore\u001b[39;00m\n\u001b[0;32m     67\u001b[0m     \u001b[39m*\u001b[39m\u001b[39m*\u001b[39m\u001b[39mself\u001b[39m\u001b[39m.\u001b[39mresources,\n\u001b[0;32m     68\u001b[0m )\u001b[39m.\u001b[39mremote(\u001b[39mself\u001b[39m\u001b[39m.\u001b[39mclient_fn, \u001b[39mself\u001b[39m\u001b[39m.\u001b[39mcid, ins)\n\u001b[0;32m     69\u001b[0m \u001b[39mtry\u001b[39;00m:\n\u001b[1;32m---> 70\u001b[0m     res \u001b[39m=\u001b[39m ray\u001b[39m.\u001b[39;49mget(future_paramseters_res, timeout\u001b[39m=\u001b[39;49mtimeout)\n\u001b[0;32m     71\u001b[0m \u001b[39mexcept\u001b[39;00m \u001b[39mException\u001b[39;00m \u001b[39mas\u001b[39;00m ex:\n\u001b[0;32m     72\u001b[0m     log(ERROR, ex)\n",
      "File \u001b[1;32mc:\\Users\\gamin\\anaconda3\\envs\\fed_learn\\lib\\site-packages\\ray\\_private\\client_mode_hook.py:105\u001b[0m, in \u001b[0;36mclient_mode_hook.<locals>.wrapper\u001b[1;34m(*args, **kwargs)\u001b[0m\n\u001b[0;32m    103\u001b[0m     \u001b[39mif\u001b[39;00m func\u001b[39m.\u001b[39m\u001b[39m__name__\u001b[39m \u001b[39m!=\u001b[39m \u001b[39m\"\u001b[39m\u001b[39minit\u001b[39m\u001b[39m\"\u001b[39m \u001b[39mor\u001b[39;00m is_client_mode_enabled_by_default:\n\u001b[0;32m    104\u001b[0m         \u001b[39mreturn\u001b[39;00m \u001b[39mgetattr\u001b[39m(ray, func\u001b[39m.\u001b[39m\u001b[39m__name__\u001b[39m)(\u001b[39m*\u001b[39margs, \u001b[39m*\u001b[39m\u001b[39m*\u001b[39mkwargs)\n\u001b[1;32m--> 105\u001b[0m \u001b[39mreturn\u001b[39;00m func(\u001b[39m*\u001b[39margs, \u001b[39m*\u001b[39m\u001b[39m*\u001b[39mkwargs)\n",
      "File \u001b[1;32mc:\\Users\\gamin\\anaconda3\\envs\\fed_learn\\lib\\site-packages\\ray\\_private\\worker.py:2521\u001b[0m, in \u001b[0;36mget\u001b[1;34m(object_refs, timeout)\u001b[0m\n\u001b[0;32m   2519\u001b[0m     worker\u001b[39m.\u001b[39mcore_worker\u001b[39m.\u001b[39mdump_object_store_memory_usage()\n\u001b[0;32m   2520\u001b[0m \u001b[39mif\u001b[39;00m \u001b[39misinstance\u001b[39m(value, RayTaskError):\n\u001b[1;32m-> 2521\u001b[0m     \u001b[39mraise\u001b[39;00m value\u001b[39m.\u001b[39mas_instanceof_cause()\n\u001b[0;32m   2522\u001b[0m \u001b[39melse\u001b[39;00m:\n\u001b[0;32m   2523\u001b[0m     \u001b[39mraise\u001b[39;00m value\n",
      "\u001b[1;31mRayTaskError(TypeError)\u001b[0m: \u001b[36mray::launch_and_get_parameters()\u001b[39m (pid=23912, ip=127.0.0.1)\n  File \"python\\ray\\_raylet.pyx\", line 877, in ray._raylet.execute_task\n  File \"python\\ray\\_raylet.pyx\", line 881, in ray._raylet.execute_task\n  File \"c:\\Users\\gamin\\anaconda3\\envs\\fed_learn\\lib\\site-packages\\flwr\\simulation\\ray_transport\\ray_client_proxy.py\", line 135, in launch_and_get_parameters\n    client: Client = _create_client(client_fn, cid)\n  File \"c:\\Users\\gamin\\anaconda3\\envs\\fed_learn\\lib\\site-packages\\flwr\\simulation\\ray_transport\\ray_client_proxy.py\", line 168, in _create_client\n    client_like: ClientLike = client_fn(cid)\n  File \"C:\\Users\\gamin\\AppData\\Local\\Temp\\ipykernel_18672\\1446647322.py\", line 32, in launch_client\nTypeError: list indices must be integers or slices, not str"
     ]
    }
   ],
   "source": [
    "\n",
    "fl.simulation.start_simulation(\n",
    "    client_fn=launch_client,\n",
    "    num_clients=5,\n",
    "    config=fl.server.ServerConfig(num_rounds=5),\n",
    "    strategy=strategy,\n",
    "    client_resources=None,\n",
    ")"
   ]
  }
 ],
 "metadata": {
  "kernelspec": {
   "display_name": "fed_learn",
   "language": "python",
   "name": "python3"
  },
  "language_info": {
   "codemirror_mode": {
    "name": "ipython",
    "version": 3
   },
   "file_extension": ".py",
   "mimetype": "text/x-python",
   "name": "python",
   "nbconvert_exporter": "python",
   "pygments_lexer": "ipython3",
   "version": "3.9.16"
  },
  "orig_nbformat": 4
 },
 "nbformat": 4,
 "nbformat_minor": 2
}
